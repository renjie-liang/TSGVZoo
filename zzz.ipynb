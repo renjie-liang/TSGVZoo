{
 "cells": [
  {
   "cell_type": "code",
   "execution_count": 1,
   "metadata": {},
   "outputs": [],
   "source": [
    "import os\n",
    "import json\n",
    "import easydict\n",
    "from easydict import EasyDict\n",
    "import numpy as np\n",
    "from tqdm import tqdm"
   ]
  },
  {
   "cell_type": "code",
   "execution_count": null,
   "metadata": {},
   "outputs": [],
   "source": [
    "raw_path = \"data/charades_reset/train.json\"\n",
    "with open(raw_path, 'r') as fr:\n",
    "    raw_json = json.load(fr)\n",
    "new_json = []\n",
    "for i in raw_json:\n",
    "    new_json.append(i[:4])\n",
    "    assert i[1] >= i[2][1], \"{} {}\".format( i[1], i[2][1])\n",
    "\n",
    "\n",
    "new_path = \"data/charades_clean/train.json\"\n",
    "with open(new_path, 'w') as fr:\n",
    "    json.dump(new_json, fr)"
   ]
  },
  {
   "cell_type": "code",
   "execution_count": null,
   "metadata": {},
   "outputs": [],
   "source": []
  },
  {
   "cell_type": "code",
   "execution_count": null,
   "metadata": {},
   "outputs": [],
   "source": []
  },
  {
   "cell_type": "code",
   "execution_count": null,
   "metadata": {},
   "outputs": [],
   "source": [
    "config_path = \"config/charades/main_i3d.json\""
   ]
  },
  {
   "cell_type": "code",
   "execution_count": null,
   "metadata": {},
   "outputs": [],
   "source": [
    "config_path = \"config/charades/main_i3d.json\"\n",
    "def load_json(filename):\n",
    "    with open(filename, encoding='utf8') as fr:\n",
    "        return EasyDict(json.load(fr))\n"
   ]
  },
  {
   "cell_type": "code",
   "execution_count": null,
   "metadata": {},
   "outputs": [],
   "source": [
    "with open(config_path, encoding='utf8') as fr:\n",
    "    a  = json.load(fr)"
   ]
  },
  {
   "cell_type": "code",
   "execution_count": null,
   "metadata": {},
   "outputs": [],
   "source": [
    "feature_dir = \"/storage/rjliang/W/VSLNet/data/features/charades/new\" # 6673\n",
    "feat_len_path = os.path.join(feature_dir, 'feature_shapes.json')\n",
    "vfeat_lens = load_json(feat_len_path)\n",
    "# vfeat_lens = get_vfeat_len(feature_dir)"
   ]
  },
  {
   "cell_type": "code",
   "execution_count": null,
   "metadata": {},
   "outputs": [],
   "source": [
    "feature_dir2 = \"/storage_fast/rjliang/charades/c3d_1024\"\n",
    "lens2 = {}\n",
    "v_list = os.listdir(feature_dir2)"
   ]
  },
  {
   "cell_type": "code",
   "execution_count": null,
   "metadata": {},
   "outputs": [],
   "source": [
    "for vid in v_list:\n",
    "    tmp = os.path.join(feature_dir2, vid)\n",
    "    ll = np.load(tmp).shape[0]\n",
    "    lens2[vid[:-4]] = ll\n",
    "    break"
   ]
  },
  {
   "cell_type": "code",
   "execution_count": null,
   "metadata": {},
   "outputs": [],
   "source": [
    "print(len(vfeat_lens))\n",
    "print(len(lens2))\n",
    "\n"
   ]
  },
  {
   "cell_type": "code",
   "execution_count": null,
   "metadata": {},
   "outputs": [],
   "source": [
    "for vid in vfeat_lens:\n",
    "    assert vfeat_lens[vid] == lens2[vid]"
   ]
  },
  {
   "cell_type": "code",
   "execution_count": null,
   "metadata": {},
   "outputs": [],
   "source": [
    "\n",
    "def compute_overlap(pred, gt):\n",
    "    # check format\n",
    "    assert isinstance(pred, list) and isinstance(gt, list)\n",
    "    pred_is_list = isinstance(pred[0], list)\n",
    "    gt_is_list = isinstance(gt[0], list)\n",
    "    pred = pred if pred_is_list else [pred]\n",
    "    gt = gt if gt_is_list else [gt]\n",
    "    # compute overlap\n",
    "    pred, gt = np.array(pred), np.array(gt)\n",
    "    inter_left = np.maximum(pred[:, 0, None], gt[None, :, 0])\n",
    "    inter_right = np.minimum(pred[:, 1, None], gt[None, :, 1])\n",
    "    inter = np.maximum(0.0, inter_right - inter_left)\n",
    "    union_left = np.minimum(pred[:, 0, None], gt[None, :, 0])\n",
    "    union_right = np.maximum(pred[:, 1, None], gt[None, :, 1])\n",
    "    union = np.maximum(1e-12, union_right - union_left)\n",
    "    overlap = 1.0 * inter / union\n",
    "    # reformat output\n",
    "    overlap = overlap if gt_is_list else overlap[:, 0]\n",
    "    overlap = overlap if pred_is_list else overlap[0]\n",
    "    return overlap\n",
    "\n",
    "\n",
    "def time_to_index(start_time, end_time, num_units, duration):\n",
    "    s_times = np.arange(0, num_units).astype(np.float32) / float(num_units) * duration\n",
    "    e_times = np.arange(1, num_units + 1).astype(np.float32) / float(num_units) * duration\n",
    "    candidates = np.stack([np.repeat(s_times[:, None], repeats=num_units, axis=1),\n",
    "                           np.repeat(e_times[None, :], repeats=num_units, axis=0)], axis=2).reshape((-1, 2))\n",
    "    overlaps = compute_overlap(candidates.tolist(), [start_time, end_time]).reshape(num_units, num_units)\n",
    "    start_index = np.argmax(overlaps) // num_units\n",
    "    end_index = np.argmax(overlaps) % num_units\n",
    "    return start_index, end_index, overlaps"
   ]
  },
  {
   "cell_type": "code",
   "execution_count": null,
   "metadata": {},
   "outputs": [],
   "source": []
  },
  {
   "cell_type": "code",
   "execution_count": null,
   "metadata": {},
   "outputs": [],
   "source": [
    "def get_vfeat_len(feature_dir, max_pos_len):\n",
    "    vfeat_lens = {}\n",
    "    for vid in tqdm(os.listdir(feature_dir), desc=\"get video feature lengths\"):\n",
    "        tmp = os.path.join(feature_dir, vid)\n",
    "        ll = np.load(tmp).shape[0]\n",
    "        vfeat_lens[vid[:-4]] = min(max_pos_len, ll)\n",
    "    return vfeat_lens "
   ]
  },
  {
   "cell_type": "code",
   "execution_count": null,
   "metadata": {},
   "outputs": [],
   "source": [
    "raw_path =  \"data/charades_clean/train.json\"\n",
    "with open(raw_path, 'r') as fr:\n",
    "    raw_json = json.load(fr)\n",
    "vfeat_lens = get_vfeat_len(feature_dir=\"/storage_fast/rjliang/charades/c3d_1024\", max_pos_len=64)\n",
    " "
   ]
  },
  {
   "cell_type": "code",
   "execution_count": null,
   "metadata": {},
   "outputs": [],
   "source": [
    "def time_to_index_my(s, e,  feature_len, duration):\n",
    "    s = round(s / duration * feature_len)\n",
    "    e = round(e / duration * feature_len)\n",
    "    return s, e\n",
    "\n",
    "for idx, record in enumerate(raw_json):\n",
    "    vid = record[0]\n",
    "    duration = record[1]\n",
    "    s, e = record[2]\n",
    "    flen = vfeat_lens[vid]\n",
    "    s_ind1, e_ind1, _ = time_to_index(s, e, flen, duration)\n",
    "    s_ind2, e_ind2 = time_to_index_my(s, e, flen, duration)\n",
    "    \n",
    "    assert e_ind1 <= flen\n",
    "    assert e_ind2 <= flen\n",
    "    assert s_ind1 == s_ind2, \"{} {}\".format(s_ind1, s_ind2)\n",
    "    assert e_ind1 == e_ind2, \"{} {} {}\".format(e_ind1, e_ind2, idx)\n",
    "    \n"
   ]
  },
  {
   "cell_type": "code",
   "execution_count": 6,
   "metadata": {},
   "outputs": [
    {
     "name": "stdout",
     "output_type": "stream",
     "text": [
      "0.00 0.00| 0 0 | 0 0\n",
      "0.00 0.10| 0 0 | 0 0\n",
      "0.00 0.20| 0 0 | 0 0\n",
      "0.00 0.30| 0 0 | 0 0\n",
      "0.00 0.40| 0 0 | 0 0\n",
      "0.00 0.50| 0 0 | 0 1\n",
      "0.00 0.60| 0 0 | 0 1\n",
      "0.00 0.70| 0 0 | 0 1\n",
      "0.00 0.80| 0 0 | 0 1\n",
      "0.00 0.90| 0 0 | 0 1\n",
      "0.00 1.00| 0 0 | 0 1\n",
      "0.00 1.10| 0 0 | 0 1\n",
      "0.00 1.20| 0 0 | 0 1\n",
      "0.00 1.30| 0 1 | 0 1\n",
      "0.00 1.40| 0 1 | 0 2\n",
      "0.00 1.50| 0 1 | 0 2\n",
      "0.00 1.60| 0 1 | 0 2\n",
      "0.00 1.70| 0 1 | 0 2\n",
      "0.00 1.80| 0 1 | 0 2\n",
      "0.00 1.90| 0 1 | 0 2\n",
      "0.00 2.00| 0 1 | 0 2\n",
      "0.00 2.10| 0 1 | 0 2\n",
      "0.00 2.20| 0 1 | 0 2\n",
      "0.00 2.30| 0 2 | 0 3\n",
      "0.00 2.40| 0 2 | 0 3\n",
      "0.00 2.50| 0 2 | 0 3\n",
      "0.00 2.60| 0 2 | 0 3\n",
      "0.00 2.70| 0 2 | 0 3\n",
      "0.00 2.80| 0 2 | 0 3\n",
      "0.00 2.90| 0 2 | 0 3\n",
      "0.00 3.00| 0 2 | 0 3\n",
      "0.00 3.10| 0 2 | 0 3\n",
      "0.00 3.20| 0 3 | 0 4\n",
      "0.00 3.30| 0 3 | 0 4\n",
      "0.00 3.40| 0 3 | 0 4\n",
      "0.00 3.50| 0 3 | 0 4\n",
      "0.00 3.60| 0 3 | 0 4\n",
      "0.00 3.70| 0 3 | 0 4\n",
      "0.00 3.80| 0 3 | 0 4\n",
      "0.00 3.90| 0 3 | 0 4\n",
      "0.00 4.00| 0 3 | 0 4\n",
      "0.00 4.10| 0 4 | 0 5\n",
      "0.00 4.20| 0 4 | 0 5\n",
      "0.00 4.30| 0 4 | 0 5\n",
      "0.00 4.40| 0 4 | 0 5\n",
      "0.00 4.50| 0 4 | 0 5\n",
      "0.00 4.60| 0 4 | 0 5\n",
      "0.00 4.70| 0 4 | 0 5\n",
      "0.00 4.80| 0 4 | 0 5\n",
      "0.00 4.90| 0 4 | 0 5\n",
      "0.00 5.00| 0 5 | 0 6\n",
      "0.00 5.10| 0 5 | 0 6\n",
      "0.00 5.20| 0 5 | 0 6\n",
      "0.00 5.30| 0 5 | 0 6\n",
      "0.00 5.40| 0 5 | 0 6\n",
      "0.00 5.50| 0 5 | 0 6\n",
      "0.00 5.60| 0 5 | 0 6\n",
      "0.00 5.70| 0 5 | 0 6\n",
      "0.00 5.80| 0 5 | 0 6\n",
      "0.00 5.90| 0 6 | 0 6\n",
      "0.00 6.00| 0 6 | 0 7\n",
      "0.00 6.10| 0 6 | 0 7\n",
      "0.00 6.20| 0 6 | 0 7\n",
      "0.00 6.30| 0 6 | 0 7\n",
      "0.00 6.40| 0 6 | 0 7\n",
      "0.00 6.50| 0 6 | 0 7\n",
      "0.00 6.60| 0 6 | 0 7\n",
      "0.00 6.70| 0 6 | 0 7\n",
      "0.00 6.80| 0 6 | 0 7\n",
      "0.00 6.90| 0 7 | 0 8\n",
      "0.00 7.00| 0 7 | 0 8\n",
      "0.00 7.10| 0 7 | 0 8\n",
      "0.00 7.20| 0 7 | 0 8\n",
      "0.00 7.30| 0 7 | 0 8\n",
      "0.00 7.40| 0 7 | 0 8\n",
      "0.00 7.50| 0 7 | 0 8\n",
      "0.00 7.60| 0 7 | 0 8\n",
      "0.00 7.70| 0 7 | 0 8\n",
      "0.00 7.80| 0 8 | 0 9\n",
      "0.00 7.90| 0 8 | 0 9\n",
      "0.00 8.00| 0 8 | 0 9\n",
      "0.00 8.10| 0 8 | 0 9\n",
      "0.00 8.20| 0 8 | 0 9\n",
      "0.00 8.30| 0 8 | 0 9\n",
      "0.00 8.40| 0 8 | 0 9\n",
      "0.00 8.50| 0 8 | 0 9\n",
      "0.00 8.60| 0 8 | 0 9\n",
      "0.00 8.70| 0 9 | 0 10\n",
      "0.00 8.80| 0 9 | 0 10\n",
      "0.00 8.90| 0 9 | 0 10\n",
      "0.00 9.00| 0 9 | 0 10\n",
      "0.00 9.10| 0 9 | 0 10\n",
      "0.00 9.20| 0 9 | 0 10\n",
      "0.00 9.30| 0 9 | 0 10\n",
      "0.00 9.40| 0 9 | 0 10\n",
      "0.00 9.50| 0 9 | 0 10\n",
      "0.00 9.60| 0 10 | 0 11\n",
      "0.00 9.70| 0 10 | 0 11\n",
      "0.00 9.80| 0 10 | 0 11\n",
      "0.00 9.90| 0 10 | 0 11\n"
     ]
    }
   ],
   "source": [
    "def time_to_index_my(s, e,  feature_len, duration):\n",
    "    feature_len = feature_len - 1\n",
    "    s = round(s / duration * feature_len)\n",
    "    e = round(e / duration * feature_len)\n",
    "    return s, e\n",
    "\n",
    "\n",
    "for i in range(100):\n",
    "\n",
    "    s = 0.0\n",
    "    e = 0.0 + i*0.1\n",
    "    feature_nums = 11\n",
    "    duration = 10\n",
    "\n",
    "    s_ind1, e_ind1, _ = time_to_index(s, e, feature_nums, duration)\n",
    "    s_ind2, e_ind2 = time_to_index_my(s, e, feature_nums, duration)\n",
    "\n",
    "    print(\"{:.2f} {:.2f}\".format(s, e), end=\"\")\n",
    "    print(\"|\", s_ind1, e_ind1, \"|\", s_ind2, e_ind2)\n",
    "\n",
    "\n",
    "# assert s_ind1 == s_ind2, \"{} {}\".format(s_ind1, s_ind2)\n",
    "# assert e_ind1 == e_ind2, \"{} {} {}\".format(e_ind1, e_ind2, idx)\n",
    "\n"
   ]
  },
  {
   "cell_type": "code",
   "execution_count": null,
   "metadata": {},
   "outputs": [],
   "source": []
  },
  {
   "cell_type": "code",
   "execution_count": null,
   "metadata": {},
   "outputs": [],
   "source": []
  },
  {
   "cell_type": "code",
   "execution_count": 2,
   "metadata": {},
   "outputs": [
    {
     "name": "stderr",
     "output_type": "stream",
     "text": [
      "/storage/rjliang/anaconda3/envs/py3/lib/python3.9/site-packages/tqdm/auto.py:22: TqdmWarning: IProgress not found. Please update jupyter and ipywidgets. See https://ipywidgets.readthedocs.io/en/stable/user_install.html\n",
      "  from .autonotebook import tqdm as notebook_tqdm\n"
     ]
    }
   ],
   "source": [
    "import torch\n",
    "logits = torch.randn(20, 32)\n",
    "gumbels = (-torch.empty_like(logits, memory_format=torch.legacy_contiguous_format).exponential_().log())"
   ]
  },
  {
   "cell_type": "code",
   "execution_count": 5,
   "metadata": {},
   "outputs": [
    {
     "ename": "NameError",
     "evalue": "name 'legacy_contiguous_format' is not defined",
     "output_type": "error",
     "traceback": [
      "\u001b[0;31m---------------------------------------------------------------------------\u001b[0m",
      "\u001b[0;31mNameError\u001b[0m                                 Traceback (most recent call last)",
      "\u001b[1;32m/storage/rjliang/3_ActiveLearn/seqpan_pytorch/zzz.ipynb Cell 22\u001b[0m in \u001b[0;36m<cell line: 1>\u001b[0;34m()\u001b[0m\n\u001b[0;32m----> <a href='vscode-notebook-cell://ssh-remote%2Bgpu2/storage/rjliang/3_ActiveLearn/seqpan_pytorch/zzz.ipynb#X30sdnNjb2RlLXJlbW90ZQ%3D%3D?line=0'>1</a>\u001b[0m legacy_contiguous_format\n",
      "\u001b[0;31mNameError\u001b[0m: name 'legacy_contiguous_format' is not defined"
     ]
    }
   ],
   "source": [
    "for m in model.modules():\n",
    "    if isinstance(m, (nn.Conv2d, nn.Linear)):\n",
    "        nn.init.orthogonal(m.weight)"
   ]
  },
  {
   "cell_type": "code",
   "execution_count": 42,
   "metadata": {},
   "outputs": [
    {
     "name": "stderr",
     "output_type": "stream",
     "text": [
      "/tmp/ipykernel_353010/2853727174.py:11: UserWarning: nn.init.orthogonal is now deprecated in favor of nn.init.orthogonal_.\n",
      "  label_embs = nn.init.orthogonal(label_embs.data)\n"
     ]
    }
   ],
   "source": [
    "import torch\n",
    "from torch import nn\n",
    "\n",
    "\n",
    "# label_embs = tf.get_variable(name='label_emb', shape=[4, self.configs.dim], dtype=tf.float32,\n",
    "#                                     trainable=True, initializer=tf.orthogonal_initializer())\n",
    "# ortho_constraint = tf.multiply(tf.matmul(label_embs, label_embs, transpose_b=True),\n",
    "#                                 1.0 - tf.eye(4, dtype=tf.float32))\n",
    "\n",
    "label_embs = torch.empty(size=[128, 4], dtype=torch.float32)\n",
    "label_embs = nn.init.orthogonal(label_embs.data)\n",
    "ortho_constraint = torch.matmul(label_embs.T, label_embs) * (1.0 - torch.eye(4, dtype=torch.float32))\n",
    "\n",
    "\n"
   ]
  },
  {
   "cell_type": "code",
   "execution_count": 43,
   "metadata": {},
   "outputs": [
    {
     "name": "stdout",
     "output_type": "stream",
     "text": [
      "tensor([ 0.0390,  0.1874, -0.1183,  0.0888])\n",
      "tensor([ 0.1158, -0.1336,  0.0822,  0.0716])\n"
     ]
    }
   ],
   "source": [
    "print(label_embs[0])\n",
    "print(label_embs[1])"
   ]
  },
  {
   "cell_type": "code",
   "execution_count": 44,
   "metadata": {},
   "outputs": [],
   "source": [
    "ortho_constraint = torch.norm(ortho_constraint, p=2)  # compute l2 norm as loss\n",
    "# self.match_loss += ortho_constraint\n"
   ]
  },
  {
   "cell_type": "code",
   "execution_count": 45,
   "metadata": {},
   "outputs": [
    {
     "data": {
      "text/plain": [
       "torch.Size([128, 4])"
      ]
     },
     "execution_count": 45,
     "metadata": {},
     "output_type": "execute_result"
    }
   ],
   "source": [
    "label_embs.shape"
   ]
  },
  {
   "cell_type": "code",
   "execution_count": 46,
   "metadata": {},
   "outputs": [
    {
     "data": {
      "text/plain": [
       "torch.Size([8, 64, 128])"
      ]
     },
     "execution_count": 46,
     "metadata": {},
     "output_type": "execute_result"
    }
   ],
   "source": [
    "B = 8\n",
    "L = 64\n",
    "D = 128\n",
    "match_scores = torch.rand(B, L, 4)\n",
    "torch.matmul(match_scores, torch.tile(label_embs, (8, 1, 1)).permute(0, 2, 1)).shape"
   ]
  },
  {
   "cell_type": "code",
   "execution_count": 41,
   "metadata": {},
   "outputs": [
    {
     "data": {
      "text/plain": [
       "torch.Size([64, 4])"
      ]
     },
     "execution_count": 41,
     "metadata": {},
     "output_type": "execute_result"
    }
   ],
   "source": [
    "label_embs.shape"
   ]
  },
  {
   "cell_type": "code",
   "execution_count": 34,
   "metadata": {},
   "outputs": [
    {
     "ename": "RuntimeError",
     "evalue": "\"repeat_interleave_cpu\" not implemented for 'Float'",
     "output_type": "error",
     "traceback": [
      "\u001b[0;31m---------------------------------------------------------------------------\u001b[0m",
      "\u001b[0;31mRuntimeError\u001b[0m                              Traceback (most recent call last)",
      "\u001b[1;32m/storage/rjliang/3_ActiveLearn/seqpan_pytorch/zzz.ipynb Cell 28\u001b[0m in \u001b[0;36m<cell line: 1>\u001b[0;34m()\u001b[0m\n\u001b[0;32m----> <a href='vscode-notebook-cell://ssh-remote%2Bgpu2/storage/rjliang/3_ActiveLearn/seqpan_pytorch/zzz.ipynb#X36sdnNjb2RlLXJlbW90ZQ%3D%3D?line=0'>1</a>\u001b[0m torch\u001b[39m.\u001b[39;49mrepeat_interleave(label_embs)\u001b[39m.\u001b[39mpermute(\u001b[39m0\u001b[39m, \u001b[39m2\u001b[39m, \u001b[39m1\u001b[39m)\n",
      "\u001b[0;31mRuntimeError\u001b[0m: \"repeat_interleave_cpu\" not implemented for 'Float'"
     ]
    }
   ],
   "source": [
    "torch.repeat_interleave(label_embs)"
   ]
  },
  {
   "cell_type": "code",
   "execution_count": 33,
   "metadata": {},
   "outputs": [
    {
     "data": {
      "text/plain": [
       "torch.Size([64, 4])"
      ]
     },
     "execution_count": 33,
     "metadata": {},
     "output_type": "execute_result"
    }
   ],
   "source": [
    "label_embs.shape"
   ]
  },
  {
   "cell_type": "code",
   "execution_count": null,
   "metadata": {},
   "outputs": [],
   "source": []
  }
 ],
 "metadata": {
  "kernelspec": {
   "display_name": "Python 3.9.7 ('py3')",
   "language": "python",
   "name": "python3"
  },
  "language_info": {
   "codemirror_mode": {
    "name": "ipython",
    "version": 3
   },
   "file_extension": ".py",
   "mimetype": "text/x-python",
   "name": "python",
   "nbconvert_exporter": "python",
   "pygments_lexer": "ipython3",
   "version": "3.9.7"
  },
  "orig_nbformat": 4,
  "vscode": {
   "interpreter": {
    "hash": "85417aaa996bf384aabef58b87c77e6a0c178545399cda58bd1fcf7e684b91db"
   }
  }
 },
 "nbformat": 4,
 "nbformat_minor": 2
}
