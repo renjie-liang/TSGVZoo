{
 "cells": [
  {
   "cell_type": "code",
   "execution_count": null,
   "metadata": {},
   "outputs": [],
   "source": [
    "import os\n",
    "import json\n",
    "import easydict\n",
    "from easydict import EasyDict\n",
    "import numpy as np\n",
    "from tqdm import tqdm"
   ]
  },
  {
   "cell_type": "code",
   "execution_count": null,
   "metadata": {},
   "outputs": [],
   "source": [
    "raw_path = \"data/charades_reset/train.json\"\n",
    "with open(raw_path, 'r') as fr:\n",
    "    raw_json = json.load(fr)\n",
    "new_json = []\n",
    "for i in raw_json:\n",
    "    new_json.append(i[:4])\n",
    "    assert i[1] >= i[2][1], \"{} {}\".format( i[1], i[2][1])\n",
    "\n",
    "\n",
    "new_path = \"data/charades_clean/train.json\"\n",
    "with open(new_path, 'w') as fr:\n",
    "    json.dump(new_json, fr)"
   ]
  },
  {
   "cell_type": "code",
   "execution_count": null,
   "metadata": {},
   "outputs": [],
   "source": []
  },
  {
   "cell_type": "code",
   "execution_count": null,
   "metadata": {},
   "outputs": [],
   "source": []
  },
  {
   "cell_type": "code",
   "execution_count": null,
   "metadata": {},
   "outputs": [],
   "source": [
    "config_path = \"config/charades/main_i3d.json\""
   ]
  },
  {
   "cell_type": "code",
   "execution_count": null,
   "metadata": {},
   "outputs": [],
   "source": [
    "config_path = \"config/charades/main_i3d.json\"\n",
    "def load_json(filename):\n",
    "    with open(filename, encoding='utf8') as fr:\n",
    "        return EasyDict(json.load(fr))\n"
   ]
  },
  {
   "cell_type": "code",
   "execution_count": null,
   "metadata": {},
   "outputs": [],
   "source": [
    "with open(config_path, encoding='utf8') as fr:\n",
    "    a  = json.load(fr)"
   ]
  },
  {
   "cell_type": "code",
   "execution_count": null,
   "metadata": {},
   "outputs": [],
   "source": [
    "feature_dir = \"/storage/rjliang/W/VSLNet/data/features/charades/new\" # 6673\n",
    "feat_len_path = os.path.join(feature_dir, 'feature_shapes.json')\n",
    "vfeat_lens = load_json(feat_len_path)\n",
    "# vfeat_lens = get_vfeat_len(feature_dir)"
   ]
  },
  {
   "cell_type": "code",
   "execution_count": null,
   "metadata": {},
   "outputs": [],
   "source": [
    "feature_dir2 = \"/storage_fast/rjliang/charades/c3d_1024\"\n",
    "lens2 = {}\n",
    "v_list = os.listdir(feature_dir2)"
   ]
  },
  {
   "cell_type": "code",
   "execution_count": null,
   "metadata": {},
   "outputs": [],
   "source": [
    "for vid in v_list:\n",
    "    tmp = os.path.join(feature_dir2, vid)\n",
    "    ll = np.load(tmp).shape[0]\n",
    "    lens2[vid[:-4]] = ll\n",
    "    break"
   ]
  },
  {
   "cell_type": "code",
   "execution_count": null,
   "metadata": {},
   "outputs": [],
   "source": [
    "print(len(vfeat_lens))\n",
    "print(len(lens2))\n",
    "\n"
   ]
  },
  {
   "cell_type": "code",
   "execution_count": null,
   "metadata": {},
   "outputs": [],
   "source": [
    "for vid in vfeat_lens:\n",
    "    assert vfeat_lens[vid] == lens2[vid]"
   ]
  },
  {
   "cell_type": "code",
   "execution_count": null,
   "metadata": {},
   "outputs": [],
   "source": [
    "\n",
    "def compute_overlap(pred, gt):\n",
    "    # check format\n",
    "    assert isinstance(pred, list) and isinstance(gt, list)\n",
    "    pred_is_list = isinstance(pred[0], list)\n",
    "    gt_is_list = isinstance(gt[0], list)\n",
    "    pred = pred if pred_is_list else [pred]\n",
    "    gt = gt if gt_is_list else [gt]\n",
    "    # compute overlap\n",
    "    pred, gt = np.array(pred), np.array(gt)\n",
    "    inter_left = np.maximum(pred[:, 0, None], gt[None, :, 0])\n",
    "    inter_right = np.minimum(pred[:, 1, None], gt[None, :, 1])\n",
    "    inter = np.maximum(0.0, inter_right - inter_left)\n",
    "    union_left = np.minimum(pred[:, 0, None], gt[None, :, 0])\n",
    "    union_right = np.maximum(pred[:, 1, None], gt[None, :, 1])\n",
    "    union = np.maximum(1e-12, union_right - union_left)\n",
    "    overlap = 1.0 * inter / union\n",
    "    # reformat output\n",
    "    overlap = overlap if gt_is_list else overlap[:, 0]\n",
    "    overlap = overlap if pred_is_list else overlap[0]\n",
    "    return overlap\n",
    "\n",
    "\n",
    "def time_to_index(start_time, end_time, num_units, duration):\n",
    "    s_times = np.arange(0, num_units).astype(np.float32) / float(num_units) * duration\n",
    "    e_times = np.arange(1, num_units + 1).astype(np.float32) / float(num_units) * duration\n",
    "    candidates = np.stack([np.repeat(s_times[:, None], repeats=num_units, axis=1),\n",
    "                           np.repeat(e_times[None, :], repeats=num_units, axis=0)], axis=2).reshape((-1, 2))\n",
    "    overlaps = compute_overlap(candidates.tolist(), [start_time, end_time]).reshape(num_units, num_units)\n",
    "    start_index = np.argmax(overlaps) // num_units\n",
    "    end_index = np.argmax(overlaps) % num_units\n",
    "    return start_index, end_index, overlaps"
   ]
  },
  {
   "cell_type": "code",
   "execution_count": null,
   "metadata": {},
   "outputs": [],
   "source": []
  },
  {
   "cell_type": "code",
   "execution_count": null,
   "metadata": {},
   "outputs": [],
   "source": [
    "def get_vfeat_len(feature_dir, max_pos_len):\n",
    "    vfeat_lens = {}\n",
    "    for vid in tqdm(os.listdir(feature_dir), desc=\"get video feature lengths\"):\n",
    "        tmp = os.path.join(feature_dir, vid)\n",
    "        ll = np.load(tmp).shape[0]\n",
    "        vfeat_lens[vid[:-4]] = min(max_pos_len, ll)\n",
    "    return vfeat_lens "
   ]
  },
  {
   "cell_type": "code",
   "execution_count": null,
   "metadata": {},
   "outputs": [],
   "source": [
    "raw_path =  \"data/charades_clean/train.json\"\n",
    "with open(raw_path, 'r') as fr:\n",
    "    raw_json = json.load(fr)\n",
    "vfeat_lens = get_vfeat_len(feature_dir=\"/storage_fast/rjliang/charades/c3d_1024\", max_pos_len=64)\n",
    " "
   ]
  },
  {
   "cell_type": "code",
   "execution_count": null,
   "metadata": {},
   "outputs": [],
   "source": [
    "def time_to_index_my(s, e,  feature_len, duration):\n",
    "    s = round(s / duration * feature_len)\n",
    "    e = round(e / duration * feature_len)\n",
    "    return s, e\n",
    "\n",
    "for idx, record in enumerate(raw_json):\n",
    "    vid = record[0]\n",
    "    duration = record[1]\n",
    "    s, e = record[2]\n",
    "    flen = vfeat_lens[vid]\n",
    "    s_ind1, e_ind1, _ = time_to_index(s, e, flen, duration)\n",
    "    s_ind2, e_ind2 = time_to_index_my(s, e, flen, duration)\n",
    "    \n",
    "    assert e_ind1 <= flen\n",
    "    assert e_ind2 <= flen\n",
    "    assert s_ind1 == s_ind2, \"{} {}\".format(s_ind1, s_ind2)\n",
    "    assert e_ind1 == e_ind2, \"{} {} {}\".format(e_ind1, e_ind2, idx)\n",
    "    \n"
   ]
  },
  {
   "cell_type": "code",
   "execution_count": null,
   "metadata": {},
   "outputs": [],
   "source": [
    "def time_to_index_my(s, e,  feature_len, duration):\n",
    "    feature_len = feature_len - 1\n",
    "    s = round(s / duration * feature_len)\n",
    "    e = round(e / duration * feature_len)\n",
    "    return s, e\n",
    "\n",
    "\n",
    "for i in range(100):\n",
    "\n",
    "    s = 0.0\n",
    "    e = 0.0 + i*0.1\n",
    "    feature_nums = 11\n",
    "    duration = 10\n",
    "\n",
    "    s_ind1, e_ind1, _ = time_to_index(s, e, feature_nums, duration)\n",
    "    s_ind2, e_ind2 = time_to_index_my(s, e, feature_nums, duration)\n",
    "\n",
    "    print(\"{:.2f} {:.2f}\".format(s, e), end=\"\")\n",
    "    print(\"|\", s_ind1, e_ind1, \"|\", s_ind2, e_ind2)\n",
    "\n",
    "\n",
    "# assert s_ind1 == s_ind2, \"{} {}\".format(s_ind1, s_ind2)\n",
    "# assert e_ind1 == e_ind2, \"{} {} {}\".format(e_ind1, e_ind2, idx)\n",
    "\n"
   ]
  },
  {
   "cell_type": "code",
   "execution_count": null,
   "metadata": {},
   "outputs": [],
   "source": []
  },
  {
   "cell_type": "code",
   "execution_count": null,
   "metadata": {},
   "outputs": [],
   "source": []
  },
  {
   "cell_type": "code",
   "execution_count": null,
   "metadata": {},
   "outputs": [],
   "source": [
    "import torch\n",
    "logits = torch.randn(20, 32)\n",
    "gumbels = (-torch.empty_like(logits, memory_format=torch.legacy_contiguous_format).exponential_().log())"
   ]
  },
  {
   "cell_type": "code",
   "execution_count": null,
   "metadata": {},
   "outputs": [],
   "source": [
    "for m in model.modules():\n",
    "    if isinstance(m, (nn.Conv2d, nn.Linear)):\n",
    "        nn.init.orthogonal(m.weight)"
   ]
  },
  {
   "cell_type": "code",
   "execution_count": null,
   "metadata": {},
   "outputs": [],
   "source": [
    "import torch\n",
    "from torch import nn\n",
    "\n",
    "\n",
    "# label_embs = tf.get_variable(name='label_emb', shape=[4, self.configs.dim], dtype=tf.float32,\n",
    "#                                     trainable=True, initializer=tf.orthogonal_initializer())\n",
    "# ortho_constraint = tf.multiply(tf.matmul(label_embs, label_embs, transpose_b=True),\n",
    "#                                 1.0 - tf.eye(4, dtype=tf.float32))\n",
    "\n",
    "label_embs = torch.empty(size=[128, 4], dtype=torch.float32)\n",
    "label_embs = nn.init.orthogonal(label_embs.data)\n",
    "ortho_constraint = torch.matmul(label_embs.T, label_embs) * (1.0 - torch.eye(4, dtype=torch.float32))\n",
    "\n",
    "\n"
   ]
  },
  {
   "cell_type": "code",
   "execution_count": null,
   "metadata": {},
   "outputs": [],
   "source": [
    "print(label_embs[0])\n",
    "print(label_embs[1])"
   ]
  },
  {
   "cell_type": "code",
   "execution_count": null,
   "metadata": {},
   "outputs": [],
   "source": [
    "ortho_constraint = torch.norm(ortho_constraint, p=2)  # compute l2 norm as loss\n",
    "# self.match_loss += ortho_constraint\n"
   ]
  },
  {
   "cell_type": "code",
   "execution_count": null,
   "metadata": {},
   "outputs": [],
   "source": [
    "label_embs.shape"
   ]
  },
  {
   "cell_type": "code",
   "execution_count": null,
   "metadata": {},
   "outputs": [],
   "source": [
    "B = 8\n",
    "L = 64\n",
    "D = 128\n",
    "match_scores = torch.rand(B, L, 4)\n",
    "torch.matmul(match_scores, torch.tile(label_embs, (8, 1, 1)).permute(0, 2, 1)).shape"
   ]
  },
  {
   "cell_type": "code",
   "execution_count": null,
   "metadata": {},
   "outputs": [],
   "source": []
  },
  {
   "cell_type": "markdown",
   "metadata": {},
   "source": []
  },
  {
   "cell_type": "code",
   "execution_count": null,
   "metadata": {},
   "outputs": [],
   "source": [
    "torch.repeat_interleave(label_embs)"
   ]
  },
  {
   "cell_type": "code",
   "execution_count": null,
   "metadata": {},
   "outputs": [],
   "source": [
    "import torch\n",
    "layer_norm_1 = torch.nn.LayerNorm(64, eps=1e-6)\n",
    "s = torch.nn.Softmax()"
   ]
  },
  {
   "cell_type": "code",
   "execution_count": null,
   "metadata": {},
   "outputs": [],
   "source": [
    "a = torch.rand([10, 8, 1])"
   ]
  },
  {
   "cell_type": "code",
   "execution_count": null,
   "metadata": {},
   "outputs": [],
   "source": [
    "a.transpose(1, 2).shape"
   ]
  },
  {
   "cell_type": "code",
   "execution_count": 1,
   "metadata": {},
   "outputs": [
    {
     "ename": "RuntimeError",
     "evalue": "Failed to run torchsummary. See above stack traces for more details. Executed layers up to: [Dropout: 2-1]",
     "output_type": "error",
     "traceback": [
      "\u001b[0;31m---------------------------------------------------------------------------\u001b[0m",
      "\u001b[0;31mRuntimeError\u001b[0m                              Traceback (most recent call last)",
      "File \u001b[0;32m~/anaconda3/envs/py3/lib/python3.9/site-packages/torchsummary/torchsummary.py:140\u001b[0m, in \u001b[0;36msummary\u001b[0;34m(model, input_data, batch_dim, branching, col_names, col_width, depth, device, dtypes, verbose, *args, **kwargs)\u001b[0m\n\u001b[1;32m    139\u001b[0m     \u001b[39mwith\u001b[39;00m torch\u001b[39m.\u001b[39mno_grad():\n\u001b[0;32m--> 140\u001b[0m         _ \u001b[39m=\u001b[39m model\u001b[39m.\u001b[39;49mto(device)(\u001b[39m*\u001b[39;49mx, \u001b[39m*\u001b[39;49margs, \u001b[39m*\u001b[39;49m\u001b[39m*\u001b[39;49mkwargs)  \u001b[39m# type: ignore[misc]\u001b[39;00m\n\u001b[1;32m    141\u001b[0m \u001b[39mexcept\u001b[39;00m \u001b[39mException\u001b[39;00m \u001b[39mas\u001b[39;00m e:\n",
      "File \u001b[0;32m~/anaconda3/envs/py3/lib/python3.9/site-packages/torch/nn/modules/module.py:1102\u001b[0m, in \u001b[0;36mModule._call_impl\u001b[0;34m(self, *input, **kwargs)\u001b[0m\n\u001b[1;32m   1100\u001b[0m \u001b[39mif\u001b[39;00m \u001b[39mnot\u001b[39;00m (\u001b[39mself\u001b[39m\u001b[39m.\u001b[39m_backward_hooks \u001b[39mor\u001b[39;00m \u001b[39mself\u001b[39m\u001b[39m.\u001b[39m_forward_hooks \u001b[39mor\u001b[39;00m \u001b[39mself\u001b[39m\u001b[39m.\u001b[39m_forward_pre_hooks \u001b[39mor\u001b[39;00m _global_backward_hooks\n\u001b[1;32m   1101\u001b[0m         \u001b[39mor\u001b[39;00m _global_forward_hooks \u001b[39mor\u001b[39;00m _global_forward_pre_hooks):\n\u001b[0;32m-> 1102\u001b[0m     \u001b[39mreturn\u001b[39;00m forward_call(\u001b[39m*\u001b[39;49m\u001b[39minput\u001b[39;49m, \u001b[39m*\u001b[39;49m\u001b[39m*\u001b[39;49mkwargs)\n\u001b[1;32m   1103\u001b[0m \u001b[39m# Do not call functions when jit is used\u001b[39;00m\n",
      "File \u001b[0;32m~/3_ActiveLearn/seqpan_pytorch/models/model.py:55\u001b[0m, in \u001b[0;36mSeqPAN.forward\u001b[0;34m(self, tfeat, vfeat_in, vmask, tmask)\u001b[0m\n\u001b[1;32m     54\u001b[0m \u001b[39m# tfeat = self.text_encoder(word_ids, char_ids)\u001b[39;00m\n\u001b[0;32m---> 55\u001b[0m vfeat \u001b[39m=\u001b[39m \u001b[39mself\u001b[39;49m\u001b[39m.\u001b[39;49mvideo_affine(vfeat_in)\n\u001b[1;32m     57\u001b[0m \u001b[39m# tmp1 = vfeat\u001b[39;00m\n\u001b[1;32m     58\u001b[0m \u001b[39m# tmp2 = tfeat\u001b[39;00m\n",
      "File \u001b[0;32m~/anaconda3/envs/py3/lib/python3.9/site-packages/torch/nn/modules/module.py:1120\u001b[0m, in \u001b[0;36mModule._call_impl\u001b[0;34m(self, *input, **kwargs)\u001b[0m\n\u001b[1;32m   1118\u001b[0m     \u001b[39minput\u001b[39m \u001b[39m=\u001b[39m bw_hook\u001b[39m.\u001b[39msetup_input_hook(\u001b[39minput\u001b[39m)\n\u001b[0;32m-> 1120\u001b[0m result \u001b[39m=\u001b[39m forward_call(\u001b[39m*\u001b[39;49m\u001b[39minput\u001b[39;49m, \u001b[39m*\u001b[39;49m\u001b[39m*\u001b[39;49mkwargs)\n\u001b[1;32m   1121\u001b[0m \u001b[39mif\u001b[39;00m _global_forward_hooks \u001b[39mor\u001b[39;00m \u001b[39mself\u001b[39m\u001b[39m.\u001b[39m_forward_hooks:\n",
      "File \u001b[0;32m~/3_ActiveLearn/seqpan_pytorch/models/layers.py:119\u001b[0m, in \u001b[0;36mVisualProjection.forward\u001b[0;34m(self, visual_features)\u001b[0m\n\u001b[1;32m    118\u001b[0m visual_features \u001b[39m=\u001b[39m \u001b[39mself\u001b[39m\u001b[39m.\u001b[39mdrop(visual_features)\n\u001b[0;32m--> 119\u001b[0m output \u001b[39m=\u001b[39m \u001b[39mself\u001b[39;49m\u001b[39m.\u001b[39;49mvideo_conv1d(visual_features)  \u001b[39m# (batch_size, seq_len, dim)\u001b[39;00m\n\u001b[1;32m    120\u001b[0m output \u001b[39m=\u001b[39m \u001b[39mself\u001b[39m\u001b[39m.\u001b[39mv_layer_norm(output)\n",
      "File \u001b[0;32m~/anaconda3/envs/py3/lib/python3.9/site-packages/torch/nn/modules/module.py:1120\u001b[0m, in \u001b[0;36mModule._call_impl\u001b[0;34m(self, *input, **kwargs)\u001b[0m\n\u001b[1;32m   1118\u001b[0m     \u001b[39minput\u001b[39m \u001b[39m=\u001b[39m bw_hook\u001b[39m.\u001b[39msetup_input_hook(\u001b[39minput\u001b[39m)\n\u001b[0;32m-> 1120\u001b[0m result \u001b[39m=\u001b[39m forward_call(\u001b[39m*\u001b[39;49m\u001b[39minput\u001b[39;49m, \u001b[39m*\u001b[39;49m\u001b[39m*\u001b[39;49mkwargs)\n\u001b[1;32m   1121\u001b[0m \u001b[39mif\u001b[39;00m _global_forward_hooks \u001b[39mor\u001b[39;00m \u001b[39mself\u001b[39m\u001b[39m.\u001b[39m_forward_hooks:\n",
      "File \u001b[0;32m~/3_ActiveLearn/seqpan_pytorch/models/layers.py:23\u001b[0m, in \u001b[0;36mConv1D.forward\u001b[0;34m(self, x)\u001b[0m\n\u001b[1;32m     22\u001b[0m x \u001b[39m=\u001b[39m x\u001b[39m.\u001b[39mtranspose(\u001b[39m1\u001b[39m, \u001b[39m2\u001b[39m)  \u001b[39m# (batch_size, dim, seq_len)\u001b[39;00m\n\u001b[0;32m---> 23\u001b[0m x \u001b[39m=\u001b[39m \u001b[39mself\u001b[39;49m\u001b[39m.\u001b[39;49mconv1d(x)\n\u001b[1;32m     24\u001b[0m \u001b[39mreturn\u001b[39;00m x\u001b[39m.\u001b[39mtranspose(\u001b[39m1\u001b[39m, \u001b[39m2\u001b[39m)\n",
      "File \u001b[0;32m~/anaconda3/envs/py3/lib/python3.9/site-packages/torch/nn/modules/module.py:1120\u001b[0m, in \u001b[0;36mModule._call_impl\u001b[0;34m(self, *input, **kwargs)\u001b[0m\n\u001b[1;32m   1118\u001b[0m     \u001b[39minput\u001b[39m \u001b[39m=\u001b[39m bw_hook\u001b[39m.\u001b[39msetup_input_hook(\u001b[39minput\u001b[39m)\n\u001b[0;32m-> 1120\u001b[0m result \u001b[39m=\u001b[39m forward_call(\u001b[39m*\u001b[39;49m\u001b[39minput\u001b[39;49m, \u001b[39m*\u001b[39;49m\u001b[39m*\u001b[39;49mkwargs)\n\u001b[1;32m   1121\u001b[0m \u001b[39mif\u001b[39;00m _global_forward_hooks \u001b[39mor\u001b[39;00m \u001b[39mself\u001b[39m\u001b[39m.\u001b[39m_forward_hooks:\n",
      "File \u001b[0;32m~/anaconda3/envs/py3/lib/python3.9/site-packages/torch/nn/modules/conv.py:301\u001b[0m, in \u001b[0;36mConv1d.forward\u001b[0;34m(self, input)\u001b[0m\n\u001b[1;32m    300\u001b[0m \u001b[39mdef\u001b[39;00m \u001b[39mforward\u001b[39m(\u001b[39mself\u001b[39m, \u001b[39minput\u001b[39m: Tensor) \u001b[39m-\u001b[39m\u001b[39m>\u001b[39m Tensor:\n\u001b[0;32m--> 301\u001b[0m     \u001b[39mreturn\u001b[39;00m \u001b[39mself\u001b[39;49m\u001b[39m.\u001b[39;49m_conv_forward(\u001b[39minput\u001b[39;49m, \u001b[39mself\u001b[39;49m\u001b[39m.\u001b[39;49mweight, \u001b[39mself\u001b[39;49m\u001b[39m.\u001b[39;49mbias)\n",
      "File \u001b[0;32m~/anaconda3/envs/py3/lib/python3.9/site-packages/torch/nn/modules/conv.py:297\u001b[0m, in \u001b[0;36mConv1d._conv_forward\u001b[0;34m(self, input, weight, bias)\u001b[0m\n\u001b[1;32m    294\u001b[0m     \u001b[39mreturn\u001b[39;00m F\u001b[39m.\u001b[39mconv1d(F\u001b[39m.\u001b[39mpad(\u001b[39minput\u001b[39m, \u001b[39mself\u001b[39m\u001b[39m.\u001b[39m_reversed_padding_repeated_twice, mode\u001b[39m=\u001b[39m\u001b[39mself\u001b[39m\u001b[39m.\u001b[39mpadding_mode),\n\u001b[1;32m    295\u001b[0m                     weight, bias, \u001b[39mself\u001b[39m\u001b[39m.\u001b[39mstride,\n\u001b[1;32m    296\u001b[0m                     _single(\u001b[39m0\u001b[39m), \u001b[39mself\u001b[39m\u001b[39m.\u001b[39mdilation, \u001b[39mself\u001b[39m\u001b[39m.\u001b[39mgroups)\n\u001b[0;32m--> 297\u001b[0m \u001b[39mreturn\u001b[39;00m F\u001b[39m.\u001b[39;49mconv1d(\u001b[39minput\u001b[39;49m, weight, bias, \u001b[39mself\u001b[39;49m\u001b[39m.\u001b[39;49mstride,\n\u001b[1;32m    298\u001b[0m                 \u001b[39mself\u001b[39;49m\u001b[39m.\u001b[39;49mpadding, \u001b[39mself\u001b[39;49m\u001b[39m.\u001b[39;49mdilation, \u001b[39mself\u001b[39;49m\u001b[39m.\u001b[39;49mgroups)\n",
      "\u001b[0;31mRuntimeError\u001b[0m: Expected 3-dimensional input for 3-dimensional weight [128, 1024, 1], but got 4-dimensional input of size [2, 64, 1, 1024] instead",
      "\nThe above exception was the direct cause of the following exception:\n",
      "\u001b[0;31mRuntimeError\u001b[0m                              Traceback (most recent call last)",
      "\u001b[1;32m/storage/rjliang/3_ActiveLearn/seqpan_pytorch/zzz.ipynb Cell 34\u001b[0m in \u001b[0;36m<cell line: 19>\u001b[0;34m()\u001b[0m\n\u001b[1;32m     <a href='vscode-notebook-cell://ssh-remote%2Basus01/storage/rjliang/3_ActiveLearn/seqpan_pytorch/zzz.ipynb#X44sdnNjb2RlLXJlbW90ZQ%3D%3D?line=16'>17</a>\u001b[0m model\u001b[39m=\u001b[39mSeqPAN(configs, dataset[\u001b[39m'\u001b[39m\u001b[39mword_vector\u001b[39m\u001b[39m'\u001b[39m])\n\u001b[1;32m     <a href='vscode-notebook-cell://ssh-remote%2Basus01/storage/rjliang/3_ActiveLearn/seqpan_pytorch/zzz.ipynb#X44sdnNjb2RlLXJlbW90ZQ%3D%3D?line=17'>18</a>\u001b[0m \u001b[39m# tw.draw_model(model, [1, 11], [1, 11, 12], [128, 64, 1024], )\u001b[39;00m\n\u001b[0;32m---> <a href='vscode-notebook-cell://ssh-remote%2Basus01/storage/rjliang/3_ActiveLearn/seqpan_pytorch/zzz.ipynb#X44sdnNjb2RlLXJlbW90ZQ%3D%3D?line=18'>19</a>\u001b[0m summary(model, [[\u001b[39m1\u001b[39;49m, \u001b[39m11\u001b[39;49m, \u001b[39m400\u001b[39;49m], [\u001b[39m1\u001b[39;49m, \u001b[39m64\u001b[39;49m, \u001b[39m1024\u001b[39;49m], [\u001b[39m1\u001b[39;49m, \u001b[39m64\u001b[39;49m], [\u001b[39m1\u001b[39;49m, \u001b[39m11\u001b[39;49m]], dtypes\u001b[39m=\u001b[39;49m[torch\u001b[39m.\u001b[39;49mfloat, torch\u001b[39m.\u001b[39;49mfloat, torch\u001b[39m.\u001b[39;49mfloat, torch\u001b[39m.\u001b[39;49mfloat])\n",
      "File \u001b[0;32m~/anaconda3/envs/py3/lib/python3.9/site-packages/torchsummary/torchsummary.py:143\u001b[0m, in \u001b[0;36msummary\u001b[0;34m(model, input_data, batch_dim, branching, col_names, col_width, depth, device, dtypes, verbose, *args, **kwargs)\u001b[0m\n\u001b[1;32m    141\u001b[0m \u001b[39mexcept\u001b[39;00m \u001b[39mException\u001b[39;00m \u001b[39mas\u001b[39;00m e:\n\u001b[1;32m    142\u001b[0m     executed_layers \u001b[39m=\u001b[39m [layer \u001b[39mfor\u001b[39;00m layer \u001b[39min\u001b[39;00m summary_list \u001b[39mif\u001b[39;00m layer\u001b[39m.\u001b[39mexecuted]\n\u001b[0;32m--> 143\u001b[0m     \u001b[39mraise\u001b[39;00m \u001b[39mRuntimeError\u001b[39;00m(\n\u001b[1;32m    144\u001b[0m         \u001b[39m\"\u001b[39m\u001b[39mFailed to run torchsummary. See above stack traces for more details. \u001b[39m\u001b[39m\"\u001b[39m\n\u001b[1;32m    145\u001b[0m         \u001b[39m\"\u001b[39m\u001b[39mExecuted layers up to: \u001b[39m\u001b[39m{}\u001b[39;00m\u001b[39m\"\u001b[39m\u001b[39m.\u001b[39mformat(executed_layers)\n\u001b[1;32m    146\u001b[0m     ) \u001b[39mfrom\u001b[39;00m \u001b[39me\u001b[39;00m\n\u001b[1;32m    147\u001b[0m \u001b[39mfinally\u001b[39;00m:\n\u001b[1;32m    148\u001b[0m     \u001b[39mif\u001b[39;00m hooks \u001b[39mis\u001b[39;00m \u001b[39mnot\u001b[39;00m \u001b[39mNone\u001b[39;00m:\n",
      "\u001b[0;31mRuntimeError\u001b[0m: Failed to run torchsummary. See above stack traces for more details. Executed layers up to: [Dropout: 2-1]"
     ]
    }
   ],
   "source": [
    "from torchsummary import summary\n",
    "# from tensorboardX import SummaryWriter\n",
    "\n",
    "import torch\n",
    "import tensorwatch as tw\n",
    "from models.model import SeqPAN\n",
    "from easydict import EasyDict\n",
    "from utils.data_gen import load_dataset\n",
    "from utils.utils import load_json\n",
    "# 其实就两句话\n",
    "configs = EasyDict(load_json(\"config/charades/main_c3dFT.json\"))\n",
    "configs.suffix = \"\"\n",
    "dataset = load_dataset(configs)\n",
    "configs.num_chars = dataset['n_chars']\n",
    "configs.num_words = dataset['n_words']\n",
    "\n",
    "model=SeqPAN(configs, dataset['word_vector'])\n",
    "# tw.draw_model(model, [1, 11], [1, 11, 12], [128, 64, 1024], )\n",
    "summary(model, [[1, 11], [1, 11, 12], [1, 64, 1024], [1, 64], [1, 11]], dtypes=[torch.int64, torch.int64, torch.float, torch.float, torch.float])\n",
    "# '''tensorboardX生成日志文件'''\n",
    "# dummy_input01 = torch.rand(10, 1, 28, 28)  # 假设输入10张1*28*28的图片\n",
    "# dummy_input02 = torch.rand(10, 1, 28, 28)  # 假设输入10张1*28*28的图片\n",
    "# with SummaryWriter(comment='Net') as w:\n",
    "#     w.add_graph(Net, (dummy_input01,dummy_input02))\n"
   ]
  },
  {
   "cell_type": "code",
   "execution_count": null,
   "metadata": {},
   "outputs": [],
   "source": []
  },
  {
   "cell_type": "code",
   "execution_count": null,
   "metadata": {},
   "outputs": [],
   "source": []
  }
 ],
 "metadata": {
  "kernelspec": {
   "display_name": "Python 3.9.7 ('py3')",
   "language": "python",
   "name": "python3"
  },
  "language_info": {
   "codemirror_mode": {
    "name": "ipython",
    "version": 3
   },
   "file_extension": ".py",
   "mimetype": "text/x-python",
   "name": "python",
   "nbconvert_exporter": "python",
   "pygments_lexer": "ipython3",
   "version": "3.9.7"
  },
  "orig_nbformat": 4,
  "vscode": {
   "interpreter": {
    "hash": "85417aaa996bf384aabef58b87c77e6a0c178545399cda58bd1fcf7e684b91db"
   }
  }
 },
 "nbformat": 4,
 "nbformat_minor": 2
}
