{
 "cells": [
  {
   "cell_type": "code",
   "execution_count": null,
   "metadata": {},
   "outputs": [],
   "source": [
    "import os\n",
    "import json\n",
    "import easydict\n",
    "from easydict import EasyDict\n",
    "import numpy as np\n",
    "from tqdm import tqdm\n",
    "import random"
   ]
  },
  {
   "cell_type": "code",
   "execution_count": null,
   "metadata": {},
   "outputs": [],
   "source": [
    "raw_path = \"data/charades_reset/train.json\"\n",
    "with open(raw_path, 'r') as fr:\n",
    "    raw_json = json.load(fr)\n",
    "new_json = []\n",
    "for i in raw_json:\n",
    "    new_json.append(i[:4])\n",
    "    assert i[1] >= i[2][1], \"{} {}\".format( i[1], i[2][1])\n",
    "\n",
    "\n",
    "new_path = \"data/charades_clean/train.json\"\n",
    "with open(new_path, 'w') as fr:\n",
    "    json.dump(new_json, fr)"
   ]
  },
  {
   "cell_type": "code",
   "execution_count": null,
   "metadata": {},
   "outputs": [],
   "source": []
  },
  {
   "cell_type": "code",
   "execution_count": null,
   "metadata": {},
   "outputs": [],
   "source": []
  },
  {
   "cell_type": "code",
   "execution_count": null,
   "metadata": {},
   "outputs": [],
   "source": [
    "config_path = \"config/charades/main_i3d.json\""
   ]
  },
  {
   "cell_type": "code",
   "execution_count": null,
   "metadata": {},
   "outputs": [],
   "source": [
    "config_path = \"config/charades/main_i3d.json\"\n",
    "def load_json(filename):\n",
    "    with open(filename, encoding='utf8') as fr:\n",
    "        return EasyDict(json.load(fr))\n"
   ]
  },
  {
   "cell_type": "code",
   "execution_count": null,
   "metadata": {},
   "outputs": [],
   "source": [
    "with open(config_path, encoding='utf8') as fr:\n",
    "    a  = json.load(fr)"
   ]
  },
  {
   "cell_type": "code",
   "execution_count": null,
   "metadata": {},
   "outputs": [],
   "source": [
    "feature_dir = \"/storage/rjliang/W/VSLNet/data/features/charades/new\" # 6673\n",
    "feat_len_path = os.path.join(feature_dir, 'feature_shapes.json')\n",
    "vfeat_lens = load_json(feat_len_path)\n",
    "# vfeat_lens = get_vfeat_len(feature_dir)"
   ]
  },
  {
   "cell_type": "code",
   "execution_count": null,
   "metadata": {},
   "outputs": [],
   "source": [
    "feature_dir2 = \"/storage_fast/rjliang/charades/c3d_1024\"\n",
    "lens2 = {}\n",
    "v_list = os.listdir(feature_dir2)"
   ]
  },
  {
   "cell_type": "code",
   "execution_count": null,
   "metadata": {},
   "outputs": [],
   "source": [
    "for vid in v_list:\n",
    "    tmp = os.path.join(feature_dir2, vid)\n",
    "    ll = np.load(tmp).shape[0]\n",
    "    lens2[vid[:-4]] = ll\n",
    "    break"
   ]
  },
  {
   "cell_type": "code",
   "execution_count": null,
   "metadata": {},
   "outputs": [],
   "source": [
    "print(len(vfeat_lens))\n",
    "print(len(lens2))\n",
    "\n"
   ]
  },
  {
   "cell_type": "code",
   "execution_count": null,
   "metadata": {},
   "outputs": [],
   "source": [
    "for vid in vfeat_lens:\n",
    "    assert vfeat_lens[vid] == lens2[vid]"
   ]
  },
  {
   "cell_type": "code",
   "execution_count": null,
   "metadata": {},
   "outputs": [],
   "source": [
    "\n",
    "def compute_overlap(pred, gt):\n",
    "    # check format\n",
    "    assert isinstance(pred, list) and isinstance(gt, list)\n",
    "    pred_is_list = isinstance(pred[0], list)\n",
    "    gt_is_list = isinstance(gt[0], list)\n",
    "    pred = pred if pred_is_list else [pred]\n",
    "    gt = gt if gt_is_list else [gt]\n",
    "    # compute overlap\n",
    "    pred, gt = np.array(pred), np.array(gt)\n",
    "    inter_left = np.maximum(pred[:, 0, None], gt[None, :, 0])\n",
    "    inter_right = np.minimum(pred[:, 1, None], gt[None, :, 1])\n",
    "    inter = np.maximum(0.0, inter_right - inter_left)\n",
    "    union_left = np.minimum(pred[:, 0, None], gt[None, :, 0])\n",
    "    union_right = np.maximum(pred[:, 1, None], gt[None, :, 1])\n",
    "    union = np.maximum(1e-12, union_right - union_left)\n",
    "    overlap = 1.0 * inter / union\n",
    "    # reformat output\n",
    "    overlap = overlap if gt_is_list else overlap[:, 0]\n",
    "    overlap = overlap if pred_is_list else overlap[0]\n",
    "    return overlap\n",
    "\n",
    "\n",
    "def time_to_index(start_time, end_time, num_units, duration):\n",
    "    s_times = np.arange(0, num_units).astype(np.float32) / float(num_units) * duration\n",
    "    e_times = np.arange(1, num_units + 1).astype(np.float32) / float(num_units) * duration\n",
    "    candidates = np.stack([np.repeat(s_times[:, None], repeats=num_units, axis=1),\n",
    "                           np.repeat(e_times[None, :], repeats=num_units, axis=0)], axis=2).reshape((-1, 2))\n",
    "    overlaps = compute_overlap(candidates.tolist(), [start_time, end_time]).reshape(num_units, num_units)\n",
    "    start_index = np.argmax(overlaps) // num_units\n",
    "    end_index = np.argmax(overlaps) % num_units\n",
    "    return start_index, end_index, overlaps"
   ]
  },
  {
   "cell_type": "code",
   "execution_count": null,
   "metadata": {},
   "outputs": [],
   "source": []
  },
  {
   "cell_type": "code",
   "execution_count": null,
   "metadata": {},
   "outputs": [],
   "source": [
    "def get_vfeat_len(feature_dir, max_pos_len):\n",
    "    vfeat_lens = {}\n",
    "    for vid in tqdm(os.listdir(feature_dir), desc=\"get video feature lengths\"):\n",
    "        tmp = os.path.join(feature_dir, vid)\n",
    "        ll = np.load(tmp).shape[0]\n",
    "        vfeat_lens[vid[:-4]] = min(max_pos_len, ll)\n",
    "    return vfeat_lens "
   ]
  },
  {
   "cell_type": "code",
   "execution_count": null,
   "metadata": {},
   "outputs": [],
   "source": [
    "raw_path =  \"data/charades_clean/train.json\"\n",
    "with open(raw_path, 'r') as fr:\n",
    "    raw_json = json.load(fr)\n",
    "vfeat_lens = get_vfeat_len(feature_dir=\"/storage_fast/rjliang/charades/c3d_1024\", max_pos_len=64)\n",
    " "
   ]
  },
  {
   "cell_type": "code",
   "execution_count": null,
   "metadata": {},
   "outputs": [],
   "source": [
    "def time_to_index_my(s, e,  feature_len, duration):\n",
    "    s = round(s / duration * feature_len)\n",
    "    e = round(e / duration * feature_len)\n",
    "    return s, e\n",
    "\n",
    "for idx, record in enumerate(raw_json):\n",
    "    vid = record[0]\n",
    "    duration = record[1]\n",
    "    s, e = record[2]\n",
    "    flen = vfeat_lens[vid]\n",
    "    s_ind1, e_ind1, _ = time_to_index(s, e, flen, duration)\n",
    "    s_ind2, e_ind2 = time_to_index_my(s, e, flen, duration)\n",
    "    \n",
    "    assert e_ind1 <= flen\n",
    "    assert e_ind2 <= flen\n",
    "    assert s_ind1 == s_ind2, \"{} {}\".format(s_ind1, s_ind2)\n",
    "    assert e_ind1 == e_ind2, \"{} {} {}\".format(e_ind1, e_ind2, idx)\n",
    "    \n"
   ]
  },
  {
   "cell_type": "code",
   "execution_count": null,
   "metadata": {},
   "outputs": [],
   "source": [
    "def time_to_index_my(s, e,  feature_len, duration):\n",
    "    feature_len = feature_len - 1\n",
    "    s = round(s / duration * feature_len)\n",
    "    e = round(e / duration * feature_len)\n",
    "    return s, e\n",
    "\n",
    "\n",
    "for i in range(100):\n",
    "\n",
    "    s = 0.0\n",
    "    e = 0.0 + i*0.1\n",
    "    feature_nums = 11\n",
    "    duration = 10\n",
    "\n",
    "    s_ind1, e_ind1, _ = time_to_index(s, e, feature_nums, duration)\n",
    "    s_ind2, e_ind2 = time_to_index_my(s, e, feature_nums, duration)\n",
    "\n",
    "    print(\"{:.2f} {:.2f}\".format(s, e), end=\"\")\n",
    "    print(\"|\", s_ind1, e_ind1, \"|\", s_ind2, e_ind2)\n",
    "\n",
    "\n",
    "# assert s_ind1 == s_ind2, \"{} {}\".format(s_ind1, s_ind2)\n",
    "# assert e_ind1 == e_ind2, \"{} {} {}\".format(e_ind1, e_ind2, idx)\n",
    "\n"
   ]
  },
  {
   "cell_type": "code",
   "execution_count": null,
   "metadata": {},
   "outputs": [],
   "source": []
  },
  {
   "cell_type": "code",
   "execution_count": null,
   "metadata": {},
   "outputs": [],
   "source": []
  },
  {
   "cell_type": "code",
   "execution_count": null,
   "metadata": {},
   "outputs": [],
   "source": [
    "import torch\n",
    "logits = torch.randn(20, 32)\n",
    "gumbels = (-torch.empty_like(logits, memory_format=torch.legacy_contiguous_format).exponential_().log())"
   ]
  },
  {
   "cell_type": "code",
   "execution_count": null,
   "metadata": {},
   "outputs": [],
   "source": [
    "for m in model.modules():\n",
    "    if isinstance(m, (nn.Conv2d, nn.Linear)):\n",
    "        nn.init.orthogonal(m.weight)"
   ]
  },
  {
   "cell_type": "code",
   "execution_count": null,
   "metadata": {},
   "outputs": [],
   "source": [
    "import torch\n",
    "from torch import nn\n",
    "\n",
    "\n",
    "# label_embs = tf.get_variable(name='label_emb', shape=[4, self.configs.dim], dtype=tf.float32,\n",
    "#                                     trainable=True, initializer=tf.orthogonal_initializer())\n",
    "# ortho_constraint = tf.multiply(tf.matmul(label_embs, label_embs, transpose_b=True),\n",
    "#                                 1.0 - tf.eye(4, dtype=tf.float32))\n",
    "\n",
    "label_embs = torch.empty(size=[128, 4], dtype=torch.float32)\n",
    "label_embs = nn.init.orthogonal(label_embs.data)\n",
    "ortho_constraint = torch.matmul(label_embs.T, label_embs) * (1.0 - torch.eye(4, dtype=torch.float32))\n",
    "\n",
    "\n"
   ]
  },
  {
   "cell_type": "code",
   "execution_count": null,
   "metadata": {},
   "outputs": [],
   "source": [
    "print(label_embs[0])\n",
    "print(label_embs[1])"
   ]
  },
  {
   "cell_type": "code",
   "execution_count": null,
   "metadata": {},
   "outputs": [],
   "source": [
    "ortho_constraint = torch.norm(ortho_constraint, p=2)  # compute l2 norm as loss\n",
    "# self.match_loss += ortho_constraint\n"
   ]
  },
  {
   "cell_type": "code",
   "execution_count": null,
   "metadata": {},
   "outputs": [],
   "source": [
    "label_embs.shape"
   ]
  },
  {
   "cell_type": "code",
   "execution_count": null,
   "metadata": {},
   "outputs": [],
   "source": [
    "B = 8\n",
    "L = 64\n",
    "D = 128\n",
    "match_scores = torch.rand(B, L, 4)\n",
    "torch.matmul(match_scores, torch.tile(label_embs, (8, 1, 1)).permute(0, 2, 1)).shape"
   ]
  },
  {
   "cell_type": "code",
   "execution_count": null,
   "metadata": {},
   "outputs": [],
   "source": []
  },
  {
   "cell_type": "markdown",
   "metadata": {},
   "source": []
  },
  {
   "cell_type": "code",
   "execution_count": null,
   "metadata": {},
   "outputs": [],
   "source": [
    "torch.repeat_interleave(label_embs)"
   ]
  },
  {
   "cell_type": "code",
   "execution_count": null,
   "metadata": {},
   "outputs": [],
   "source": [
    "import torch\n",
    "layer_norm_1 = torch.nn.LayerNorm(64, eps=1e-6)\n",
    "s = torch.nn.Softmax()"
   ]
  },
  {
   "cell_type": "code",
   "execution_count": null,
   "metadata": {},
   "outputs": [],
   "source": [
    "a = torch.rand([10, 8, 1])"
   ]
  },
  {
   "cell_type": "code",
   "execution_count": null,
   "metadata": {},
   "outputs": [],
   "source": [
    "a.transpose(1, 2).shape"
   ]
  },
  {
   "cell_type": "code",
   "execution_count": null,
   "metadata": {},
   "outputs": [],
   "source": [
    "from torchsummary import summary\n",
    "# from tensorboardX import SummaryWriter\n",
    "\n",
    "import torch\n",
    "import tensorwatch as tw\n",
    "from models.model import SeqPAN\n",
    "from easydict import EasyDict\n",
    "from utils.data_gen import load_dataset\n",
    "from utils.utils import load_json\n",
    "# 其实就两句话\n",
    "configs = EasyDict(load_json(\"config/charades/main_c3dFT.json\"))\n",
    "configs.suffix = \"\"\n",
    "dataset = load_dataset(configs)\n",
    "configs.num_chars = dataset['n_chars']\n",
    "configs.num_words = dataset['n_words']\n",
    "\n",
    "model=SeqPAN(configs, dataset['word_vector'])\n",
    "# tw.draw_model(model, [1, 11], [1, 11, 12], [128, 64, 1024], )\n",
    "summary(model, [[1, 11], [1, 11, 12], [1, 64, 1024], [1, 64], [1, 11]], dtypes=[torch.int64, torch.int64, torch.float, torch.float, torch.float])\n",
    "# '''tensorboardX生成日志文件'''\n",
    "# dummy_input01 = torch.rand(10, 1, 28, 28)  # 假设输入10张1*28*28的图片\n",
    "# dummy_input02 = torch.rand(10, 1, 28, 28)  # 假设输入10张1*28*28的图片\n",
    "# with SummaryWriter(comment='Net') as w:\n",
    "#     w.add_graph(Net, (dummy_input01,dummy_input02))\n"
   ]
  },
  {
   "cell_type": "code",
   "execution_count": null,
   "metadata": {},
   "outputs": [],
   "source": []
  },
  {
   "cell_type": "code",
   "execution_count": null,
   "metadata": {},
   "outputs": [],
   "source": [
    "import json\n",
    "import random\n",
    "raw_path = \"./data/charades_clean/train.json\"\n",
    "with open(raw_path, 'r') as fr:\n",
    "    raw_json = json.load(fr)\n"
   ]
  },
  {
   "cell_type": "code",
   "execution_count": null,
   "metadata": {},
   "outputs": [],
   "source": [
    "half_json = []\n",
    "for i in range(len(raw_json)):\n",
    "    if random.random() > 0.5:\n",
    "        half_json.append(raw_json[i])\n",
    "print(len(raw_json))\n",
    "print(len(half_json))"
   ]
  },
  {
   "cell_type": "code",
   "execution_count": null,
   "metadata": {},
   "outputs": [],
   "source": [
    "half_path = \"data/charades_half/train.json\"\n",
    "with open(half_path, 'w') as fr:\n",
    "    json.dump(half_json, fr)"
   ]
  },
  {
   "cell_type": "code",
   "execution_count": null,
   "metadata": {},
   "outputs": [],
   "source": [
    "import pickle\n",
    "full_path = \"./data_pkl/charades_64_.pkl\"\n",
    "with open(full_path, mode='rb') as handle:\n",
    "    full_data = pickle.load(handle)\n",
    "\n",
    "\n"
   ]
  },
  {
   "cell_type": "code",
   "execution_count": null,
   "metadata": {},
   "outputs": [],
   "source": [
    "import random\n",
    "half_trainset = []\n",
    "for i in range(len(full_data['train_set'])):\n",
    "    if random.random() > 0.5:\n",
    "        half_trainset.append(full_data['train_set'][i])\n",
    "print(len(full_data['train_set']))\n",
    "print(len(half_trainset))"
   ]
  },
  {
   "cell_type": "code",
   "execution_count": null,
   "metadata": {},
   "outputs": [],
   "source": [
    "full_data['train_set'] =half_trainset"
   ]
  },
  {
   "cell_type": "code",
   "execution_count": null,
   "metadata": {},
   "outputs": [],
   "source": [
    "len(full_data['train_set'])"
   ]
  },
  {
   "cell_type": "code",
   "execution_count": null,
   "metadata": {},
   "outputs": [],
   "source": [
    "falf_path = \"./data_pkl/charades_64_half.pkl\"\n",
    "with open(falf_path, mode='wb') as handle:\n",
    "    pickle.dump(full_data, handle, protocol=pickle.HIGHEST_PROTOCOL)\n"
   ]
  },
  {
   "cell_type": "code",
   "execution_count": 18,
   "metadata": {},
   "outputs": [
    {
     "ename": "RuntimeError",
     "evalue": "expected stride to be a single integer value or a list of 1 values to match the convolution dimensions, but got stride=[1, 1]",
     "output_type": "error",
     "traceback": [
      "\u001b[0;31m---------------------------------------------------------------------------\u001b[0m",
      "\u001b[0;31mRuntimeError\u001b[0m                              Traceback (most recent call last)",
      "\u001b[1;32m/storage/rjliang/3_ActiveLearn/seqpan_pytorch/zzz.ipynb Cell 44\u001b[0m in \u001b[0;36m<cell line: 10>\u001b[0;34m()\u001b[0m\n\u001b[1;32m      <a href='vscode-notebook-cell://ssh-remote%2Basus04/storage/rjliang/3_ActiveLearn/seqpan_pytorch/zzz.ipynb#X61sdnNjb2RlLXJlbW90ZQ%3D%3D?line=4'>5</a>\u001b[0m \u001b[39m# kernel = torch.tensor([[[1, 1, 1],\u001b[39;00m\n\u001b[1;32m      <a href='vscode-notebook-cell://ssh-remote%2Basus04/storage/rjliang/3_ActiveLearn/seqpan_pytorch/zzz.ipynb#X61sdnNjb2RlLXJlbW90ZQ%3D%3D?line=5'>6</a>\u001b[0m \u001b[39m#               [1, 1, 1],\u001b[39;00m\n\u001b[1;32m      <a href='vscode-notebook-cell://ssh-remote%2Basus04/storage/rjliang/3_ActiveLearn/seqpan_pytorch/zzz.ipynb#X61sdnNjb2RlLXJlbW90ZQ%3D%3D?line=6'>7</a>\u001b[0m \u001b[39m#               [1, 1, 1]]])\u001b[39;00m\n\u001b[1;32m      <a href='vscode-notebook-cell://ssh-remote%2Basus04/storage/rjliang/3_ActiveLearn/seqpan_pytorch/zzz.ipynb#X61sdnNjb2RlLXJlbW90ZQ%3D%3D?line=8'>9</a>\u001b[0m inputs \u001b[39m=\u001b[39m torch\u001b[39m.\u001b[39mrandn(\u001b[39m16\u001b[39m, \u001b[39m64\u001b[39m, \u001b[39m64\u001b[39m)\n\u001b[0;32m---> <a href='vscode-notebook-cell://ssh-remote%2Basus04/storage/rjliang/3_ActiveLearn/seqpan_pytorch/zzz.ipynb#X61sdnNjb2RlLXJlbW90ZQ%3D%3D?line=9'>10</a>\u001b[0m a \u001b[39m=\u001b[39m F\u001b[39m.\u001b[39;49mconv2d(inputs, filters)\n\u001b[1;32m     <a href='vscode-notebook-cell://ssh-remote%2Basus04/storage/rjliang/3_ActiveLearn/seqpan_pytorch/zzz.ipynb#X61sdnNjb2RlLXJlbW90ZQ%3D%3D?line=10'>11</a>\u001b[0m a\u001b[39m.\u001b[39mshape\n",
      "\u001b[0;31mRuntimeError\u001b[0m: expected stride to be a single integer value or a list of 1 values to match the convolution dimensions, but got stride=[1, 1]"
     ]
    }
   ],
   "source": [
    "import torch.nn.functional as F\n",
    "import torch\n",
    "# With square kernels and equal stride\n",
    "filters = torch.randn(1, 1, 3, 3)\n",
    "# kernel = torch.tensor([[[1, 1, 1],\n",
    "#               [1, 1, 1],\n",
    "#               [1, 1, 1]]])\n",
    "\n",
    "inputs = torch.randn(16, 1, 64, 64)\n",
    "a = F.conv2d(inputs, filters)\n",
    "a.shape"
   ]
  },
  {
   "cell_type": "code",
   "execution_count": null,
   "metadata": {},
   "outputs": [],
   "source": []
  },
  {
   "cell_type": "code",
   "execution_count": null,
   "metadata": {},
   "outputs": [],
   "source": []
  }
 ],
 "metadata": {
  "kernelspec": {
   "display_name": "Python 3.9.7 ('py3')",
   "language": "python",
   "name": "python3"
  },
  "language_info": {
   "codemirror_mode": {
    "name": "ipython",
    "version": 3
   },
   "file_extension": ".py",
   "mimetype": "text/x-python",
   "name": "python",
   "nbconvert_exporter": "python",
   "pygments_lexer": "ipython3",
   "version": "3.9.7"
  },
  "orig_nbformat": 4,
  "vscode": {
   "interpreter": {
    "hash": "85417aaa996bf384aabef58b87c77e6a0c178545399cda58bd1fcf7e684b91db"
   }
  }
 },
 "nbformat": 4,
 "nbformat_minor": 2
}
